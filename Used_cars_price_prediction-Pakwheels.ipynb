{
 "cells": [
  {
   "cell_type": "markdown",
   "id": "6f13c66f",
   "metadata": {},
   "source": [
    "# Price Prediction of used cars - Pakwheels"
   ]
  },
  {
   "cell_type": "markdown",
   "id": "feb7c50d",
   "metadata": {},
   "source": [
    "-----------\n"
   ]
  },
  {
   "cell_type": "markdown",
   "id": "19707bf9",
   "metadata": {},
   "source": [
    "## Import Libraries"
   ]
  },
  {
   "cell_type": "code",
   "execution_count": 408,
   "id": "65215b16",
   "metadata": {},
   "outputs": [],
   "source": [
    "import pandas as pd\n",
    "import numpy as np\n",
    "import matplotlib.pyplot as plt\n",
    "import seaborn as sns\n",
    "\n",
    "import warnings\n",
    "warnings.filterwarnings('ignore')\n",
    "\n"
   ]
  },
  {
   "cell_type": "markdown",
   "id": "56f8315a",
   "metadata": {},
   "source": [
    "## Load Dataset"
   ]
  },
  {
   "cell_type": "code",
   "execution_count": 409,
   "id": "566c9946",
   "metadata": {},
   "outputs": [
    {
     "data": {
      "text/html": [
       "<div>\n",
       "<style scoped>\n",
       "    .dataframe tbody tr th:only-of-type {\n",
       "        vertical-align: middle;\n",
       "    }\n",
       "\n",
       "    .dataframe tbody tr th {\n",
       "        vertical-align: top;\n",
       "    }\n",
       "\n",
       "    .dataframe thead th {\n",
       "        text-align: right;\n",
       "    }\n",
       "</style>\n",
       "<table border=\"1\" class=\"dataframe\">\n",
       "  <thead>\n",
       "    <tr style=\"text-align: right;\">\n",
       "      <th></th>\n",
       "      <th>title</th>\n",
       "      <th>location</th>\n",
       "      <th>model_year</th>\n",
       "      <th>fuel_type</th>\n",
       "      <th>transmission</th>\n",
       "      <th>km_driven</th>\n",
       "      <th>registered_in</th>\n",
       "      <th>color</th>\n",
       "      <th>assembly</th>\n",
       "      <th>engine_capacity</th>\n",
       "      <th>body_type</th>\n",
       "      <th>last_updated</th>\n",
       "      <th>price</th>\n",
       "      <th>url</th>\n",
       "    </tr>\n",
       "  </thead>\n",
       "  <tbody>\n",
       "    <tr>\n",
       "      <th>0</th>\n",
       "      <td>Suzuki Mehran 2003</td>\n",
       "      <td>Multan Punjab</td>\n",
       "      <td>2003.0</td>\n",
       "      <td>Petrol</td>\n",
       "      <td>Manual</td>\n",
       "      <td>170,000 km</td>\n",
       "      <td>Lahore</td>\n",
       "      <td>White</td>\n",
       "      <td>Local</td>\n",
       "      <td>800 cc</td>\n",
       "      <td>NaN</td>\n",
       "      <td>May 07, 2025</td>\n",
       "      <td>PKR 5.8 Lakh</td>\n",
       "      <td>https://www.pakwheels.com/used-cars/suzuki-meh...</td>\n",
       "    </tr>\n",
       "    <tr>\n",
       "      <th>1</th>\n",
       "      <td>Mitsubishi Lancer GLX Automatic 1.6 2006</td>\n",
       "      <td>Lahore Punjab</td>\n",
       "      <td>2006.0</td>\n",
       "      <td>Petrol</td>\n",
       "      <td>Automatic</td>\n",
       "      <td>119,080 km</td>\n",
       "      <td>Islamabad</td>\n",
       "      <td>Labrador Black Pearl</td>\n",
       "      <td>Imported</td>\n",
       "      <td>1600 cc</td>\n",
       "      <td>Sedan</td>\n",
       "      <td>Apr 29, 2025</td>\n",
       "      <td>PKR 25 Lakh</td>\n",
       "      <td>https://www.pakwheels.com/used-cars/mitsubishi...</td>\n",
       "    </tr>\n",
       "    <tr>\n",
       "      <th>2</th>\n",
       "      <td>Suzuki Wagon R Stingray X 2013</td>\n",
       "      <td>Abbot Road, Lahore Punjab</td>\n",
       "      <td>2013.0</td>\n",
       "      <td>Petrol</td>\n",
       "      <td>Automatic</td>\n",
       "      <td>87,000 km</td>\n",
       "      <td>Punjab</td>\n",
       "      <td>Black</td>\n",
       "      <td>Imported</td>\n",
       "      <td>660 cc</td>\n",
       "      <td>Hatchback</td>\n",
       "      <td>Apr 29, 2025</td>\n",
       "      <td>PKR 26.5 Lakh</td>\n",
       "      <td>https://www.pakwheels.com/used-cars/suzuki-wag...</td>\n",
       "    </tr>\n",
       "    <tr>\n",
       "      <th>3</th>\n",
       "      <td>Toyota Land Cruiser ZX 2019</td>\n",
       "      <td>Lahore Punjab</td>\n",
       "      <td>2019.0</td>\n",
       "      <td>Petrol</td>\n",
       "      <td>Automatic</td>\n",
       "      <td>30,000 km</td>\n",
       "      <td>Un-Registered</td>\n",
       "      <td>White Pearl Crystal Shine</td>\n",
       "      <td>Imported</td>\n",
       "      <td>4600 cc</td>\n",
       "      <td>SUV</td>\n",
       "      <td>Apr 28, 2025</td>\n",
       "      <td>PKR 4.63 crore</td>\n",
       "      <td>https://www.pakwheels.com/used-cars/toyota-lan...</td>\n",
       "    </tr>\n",
       "    <tr>\n",
       "      <th>4</th>\n",
       "      <td>Suzuki Alto VXL AGS 2021</td>\n",
       "      <td>Rehmania Town, Faisalabad Punjab</td>\n",
       "      <td>2021.0</td>\n",
       "      <td>Petrol</td>\n",
       "      <td>Automatic</td>\n",
       "      <td>15,800 km</td>\n",
       "      <td>Punjab</td>\n",
       "      <td>Silver</td>\n",
       "      <td>Local</td>\n",
       "      <td>660 cc</td>\n",
       "      <td>Hatchback</td>\n",
       "      <td>Apr 30, 2025</td>\n",
       "      <td>PKR 27.7 Lakh</td>\n",
       "      <td>https://www.pakwheels.com/used-cars/suzuki-alt...</td>\n",
       "    </tr>\n",
       "  </tbody>\n",
       "</table>\n",
       "</div>"
      ],
      "text/plain": [
       "                                      title                          location  \\\n",
       "0                        Suzuki Mehran 2003                     Multan Punjab   \n",
       "1  Mitsubishi Lancer GLX Automatic 1.6 2006                     Lahore Punjab   \n",
       "2            Suzuki Wagon R Stingray X 2013         Abbot Road, Lahore Punjab   \n",
       "3               Toyota Land Cruiser ZX 2019                     Lahore Punjab   \n",
       "4                  Suzuki Alto VXL AGS 2021  Rehmania Town, Faisalabad Punjab   \n",
       "\n",
       "   model_year fuel_type transmission   km_driven  registered_in  \\\n",
       "0      2003.0    Petrol       Manual  170,000 km         Lahore   \n",
       "1      2006.0    Petrol    Automatic  119,080 km      Islamabad   \n",
       "2      2013.0    Petrol    Automatic   87,000 km         Punjab   \n",
       "3      2019.0    Petrol    Automatic   30,000 km  Un-Registered   \n",
       "4      2021.0    Petrol    Automatic   15,800 km         Punjab   \n",
       "\n",
       "                       color  assembly engine_capacity  body_type  \\\n",
       "0                      White     Local          800 cc        NaN   \n",
       "1       Labrador Black Pearl  Imported         1600 cc      Sedan   \n",
       "2                      Black  Imported          660 cc  Hatchback   \n",
       "3  White Pearl Crystal Shine  Imported         4600 cc        SUV   \n",
       "4                     Silver     Local          660 cc  Hatchback   \n",
       "\n",
       "   last_updated           price  \\\n",
       "0  May 07, 2025    PKR 5.8 Lakh   \n",
       "1  Apr 29, 2025     PKR 25 Lakh   \n",
       "2  Apr 29, 2025   PKR 26.5 Lakh   \n",
       "3  Apr 28, 2025  PKR 4.63 crore   \n",
       "4  Apr 30, 2025   PKR 27.7 Lakh   \n",
       "\n",
       "                                                 url  \n",
       "0  https://www.pakwheels.com/used-cars/suzuki-meh...  \n",
       "1  https://www.pakwheels.com/used-cars/mitsubishi...  \n",
       "2  https://www.pakwheels.com/used-cars/suzuki-wag...  \n",
       "3  https://www.pakwheels.com/used-cars/toyota-lan...  \n",
       "4  https://www.pakwheels.com/used-cars/suzuki-alt...  "
      ]
     },
     "execution_count": 409,
     "metadata": {},
     "output_type": "execute_result"
    }
   ],
   "source": [
    "df = pd.read_csv('D:/DS Bootcamp/Machine Learning/Used cars Price prediction/Used-Cars-Price-Prediction-Pakwheels/Pakwheels_used_cars.csv')\n",
    "df.head()"
   ]
  },
  {
   "cell_type": "markdown",
   "id": "e9eb6076",
   "metadata": {},
   "source": [
    "------"
   ]
  },
  {
   "cell_type": "markdown",
   "id": "7375bb13",
   "metadata": {},
   "source": [
    "## Data Preprocessing"
   ]
  },
  {
   "cell_type": "markdown",
   "id": "bbe67c2e",
   "metadata": {},
   "source": [
    "### Handle Data inconsisties"
   ]
  },
  {
   "cell_type": "code",
   "execution_count": 410,
   "id": "cc2c23eb",
   "metadata": {},
   "outputs": [],
   "source": [
    "pd.set_option('display.max_rows', False)"
   ]
  },
  {
   "cell_type": "markdown",
   "id": "7a1ef8ae",
   "metadata": {},
   "source": [
    "From title column extract the brand name and store it to a new column called brand"
   ]
  },
  {
   "cell_type": "code",
   "execution_count": 411,
   "id": "05b28c4f",
   "metadata": {},
   "outputs": [],
   "source": [
    "df.insert(0, 'brand', df['title'].str.split().str[0])"
   ]
  },
  {
   "cell_type": "markdown",
   "id": "4f1c0f96",
   "metadata": {},
   "source": [
    "From title remove the model yr bcz we already have year of model in dataset\n"
   ]
  },
  {
   "cell_type": "code",
   "execution_count": 412,
   "id": "1707a75f",
   "metadata": {},
   "outputs": [],
   "source": [
    "df['title'] = df['title'].str.replace(r'\\b\\d{4}$', '', regex=True).str.strip()"
   ]
  },
  {
   "cell_type": "markdown",
   "id": "33340edd",
   "metadata": {},
   "source": [
    "Rename the title to model_name"
   ]
  },
  {
   "cell_type": "code",
   "execution_count": 413,
   "id": "3269951b",
   "metadata": {},
   "outputs": [],
   "source": [
    "df.rename(columns={'title':'model_name'},inplace=True)"
   ]
  },
  {
   "cell_type": "markdown",
   "id": "3abd6b31",
   "metadata": {},
   "source": [
    "Extract from location all the provinces and stored in new column province"
   ]
  },
  {
   "cell_type": "code",
   "execution_count": 414,
   "id": "aaf6f3df",
   "metadata": {},
   "outputs": [],
   "source": [
    "df.insert(2, 'province', df['location'].str.split().str[-1])"
   ]
  },
  {
   "cell_type": "markdown",
   "id": "bb57fdfe",
   "metadata": {},
   "source": [
    "Correct the dtype of model_year into int."
   ]
  },
  {
   "cell_type": "code",
   "execution_count": 415,
   "id": "92bf03cd",
   "metadata": {},
   "outputs": [],
   "source": [
    "df['model_year'] = pd.to_numeric(df['model_year'], errors='coerce')"
   ]
  },
  {
   "cell_type": "markdown",
   "id": "d9ceb332",
   "metadata": {},
   "source": [
    "Replace comma and km from the km_driven column"
   ]
  },
  {
   "cell_type": "code",
   "execution_count": 416,
   "id": "e68ce8d0",
   "metadata": {},
   "outputs": [],
   "source": [
    "df['km_driven'] = df['km_driven'].replace({',': '', ' km': ''}, regex=True).str.strip()"
   ]
  },
  {
   "cell_type": "markdown",
   "id": "ff7fccf8",
   "metadata": {},
   "source": [
    "Correct the dtype of km_driven into int"
   ]
  },
  {
   "cell_type": "code",
   "execution_count": 417,
   "id": "84dbbdd1",
   "metadata": {},
   "outputs": [],
   "source": [
    "df['km_driven'] = pd.to_numeric(df['km_driven'], errors='coerce')"
   ]
  },
  {
   "cell_type": "markdown",
   "id": "7995ba4f",
   "metadata": {},
   "source": [
    "Add a new column of engine size in numeric"
   ]
  },
  {
   "cell_type": "code",
   "execution_count": 418,
   "id": "0ec768f7",
   "metadata": {},
   "outputs": [],
   "source": [
    "df.insert(12, 'engine_power', df['engine_capacity'].str.split().str[0].astype('float'))"
   ]
  },
  {
   "cell_type": "markdown",
   "id": "1fd18da9",
   "metadata": {},
   "source": [
    "Remove those engine in cc less than 600"
   ]
  },
  {
   "cell_type": "code",
   "execution_count": 419,
   "id": "ddb59d10",
   "metadata": {},
   "outputs": [],
   "source": [
    "df['unit'] = df['engine_capacity'].str.extract(r'([a-zA-Z]+)')\n",
    "\n",
    "df = df[~((df['unit'].str.lower() == 'cc') & (df['engine_power'] < 600))]\n",
    "df.reset_index(drop=True, inplace=True)"
   ]
  },
  {
   "cell_type": "markdown",
   "id": "b68907bc",
   "metadata": {},
   "source": [
    "Remove the unit column"
   ]
  },
  {
   "cell_type": "code",
   "execution_count": 420,
   "id": "902b2765",
   "metadata": {},
   "outputs": [],
   "source": [
    "df.drop(columns=['unit'], inplace=True)"
   ]
  },
  {
   "cell_type": "markdown",
   "id": "51b5c8fe",
   "metadata": {},
   "source": [
    "We observed that some cars have Km_driven listed as 1 km, which is highly unlikely given that the car models range from 1990 to 2022. It's not realistic for 102 cars to have been driven only 1 km, so we consider this a data entry error. Since we don't have accurate information about their actual mileage, we decided to remove these rows from the dataset."
   ]
  },
  {
   "cell_type": "code",
   "execution_count": 421,
   "id": "0510afe7",
   "metadata": {},
   "outputs": [],
   "source": [
    "df = df[df['km_driven'] > 1]"
   ]
  },
  {
   "cell_type": "markdown",
   "id": "3a164733",
   "metadata": {},
   "source": [
    "Correct the last_updated column type into date format"
   ]
  },
  {
   "cell_type": "code",
   "execution_count": 422,
   "id": "046b5809",
   "metadata": {},
   "outputs": [],
   "source": [
    "df['last_updated'] = pd.to_datetime(df['last_updated'], format='%b %d, %Y', errors='coerce')"
   ]
  },
  {
   "cell_type": "markdown",
   "id": "838f9ba9",
   "metadata": {},
   "source": [
    "We have 180 rows where the price is listed as \"on call for price.\" Since price is our target column, including any incorrect or missing information could negatively impact the performance of our model. Therefore, we have decided to remove these rows to ensure the quality and accuracy of the data."
   ]
  },
  {
   "cell_type": "code",
   "execution_count": 423,
   "id": "c300c4c0",
   "metadata": {},
   "outputs": [],
   "source": [
    "df = df[df['price'] != 'Call for price']"
   ]
  },
  {
   "cell_type": "markdown",
   "id": "fe070fd6",
   "metadata": {},
   "source": [
    "Remove PKR from the price column"
   ]
  },
  {
   "cell_type": "code",
   "execution_count": 424,
   "id": "a8448820",
   "metadata": {},
   "outputs": [],
   "source": [
    "df['price'] = df['price'].str.replace('PKR', '', regex=True).str.strip()"
   ]
  },
  {
   "cell_type": "markdown",
   "id": "833dcb84",
   "metadata": {},
   "source": [
    "Calculate the lacs and crores values and convert into float"
   ]
  },
  {
   "cell_type": "code",
   "execution_count": 425,
   "id": "de5a155c",
   "metadata": {},
   "outputs": [],
   "source": [
    "def convert_price(value):\n",
    "    if isinstance(value, (float, int)):\n",
    "        return value  \n",
    "\n",
    "    value = value.strip().lower()\n",
    "    if 'crore' in value:\n",
    "        num = value.replace('crore', '').strip()  \n",
    "        try:\n",
    "            return float(num) * 10_000_000\n",
    "        except ValueError:\n",
    "            return None\n",
    "    elif 'lakh' in value:\n",
    "        num = value.replace('lakh', '').strip() \n",
    "        try:\n",
    "            return float(num) * 100_000  \n",
    "        except ValueError:\n",
    "            return None  \n",
    "    try:\n",
    "        return float(value)\n",
    "    except ValueError:\n",
    "        return None \n",
    "\n",
    "df['price'] = df['price'].apply(convert_price)"
   ]
  },
  {
   "cell_type": "markdown",
   "id": "b7bcd229",
   "metadata": {},
   "source": [
    "Drop the Url column bcz it didn't help in prediction"
   ]
  },
  {
   "cell_type": "code",
   "execution_count": 426,
   "id": "4cd57161",
   "metadata": {},
   "outputs": [],
   "source": [
    "df.drop(columns=['url'], inplace=True)"
   ]
  },
  {
   "cell_type": "markdown",
   "id": "d0c7553b",
   "metadata": {},
   "source": [
    "We have too many unique colors, which could negatively affect our model. Therefore, I've decided to convert the colors into base colors for better generalization and model performance."
   ]
  },
  {
   "cell_type": "code",
   "execution_count": 427,
   "id": "a7725196",
   "metadata": {},
   "outputs": [
    {
     "data": {
      "text/plain": [
       "430"
      ]
     },
     "execution_count": 427,
     "metadata": {},
     "output_type": "execute_result"
    }
   ],
   "source": [
    "df['color'].nunique()"
   ]
  },
  {
   "cell_type": "code",
   "execution_count": 429,
   "id": "c49f170b",
   "metadata": {},
   "outputs": [],
   "source": [
    "base_colors = ['white', 'silver', 'black', 'grey', 'blue', 'green', 'red', 'orange', 'pink', 'purple', 'indigo', 'brown', 'turquoise', 'titanium', 'metallic', 'maroon'\n",
    "               'gold', 'bronze', 'beige', 'navy', 'burgundy','magneta', 'unlisted']\n",
    "\n",
    "def map_to_base_color(color):\n",
    "    color = color.lower()\n",
    "    for base_color in base_colors:\n",
    "        if base_color in color:\n",
    "            return base_color\n",
    "    return 'others' \n",
    "\n",
    "df['color'] = df['color'].apply(map_to_base_color)"
   ]
  },
  {
   "cell_type": "markdown",
   "id": "adeeaa97",
   "metadata": {},
   "source": [
    "from 430 to 22 color that reduces the model complexity"
   ]
  },
  {
   "cell_type": "code",
   "execution_count": 430,
   "id": "70e7eeab",
   "metadata": {},
   "outputs": [
    {
     "data": {
      "text/plain": [
       "22"
      ]
     },
     "execution_count": 430,
     "metadata": {},
     "output_type": "execute_result"
    }
   ],
   "source": [
    "df['color'].nunique()"
   ]
  },
  {
   "cell_type": "code",
   "execution_count": 431,
   "id": "ec2b1da3",
   "metadata": {},
   "outputs": [
    {
     "name": "stdout",
     "output_type": "stream",
     "text": [
      "<class 'pandas.core.frame.DataFrame'>\n",
      "Index: 9698 entries, 0 to 9994\n",
      "Data columns (total 16 columns):\n",
      " #   Column           Non-Null Count  Dtype         \n",
      "---  ------           --------------  -----         \n",
      " 0   brand            9698 non-null   object        \n",
      " 1   model_name       9698 non-null   object        \n",
      " 2   province         9698 non-null   object        \n",
      " 3   location         9698 non-null   object        \n",
      " 4   model_year       8731 non-null   float64       \n",
      " 5   fuel_type        9698 non-null   object        \n",
      " 6   transmission     9698 non-null   object        \n",
      " 7   km_driven        9698 non-null   float64       \n",
      " 8   registered_in    9698 non-null   object        \n",
      " 9   color            9698 non-null   object        \n",
      " 10  assembly         9698 non-null   object        \n",
      " 11  engine_capacity  9698 non-null   object        \n",
      " 12  engine_power     9698 non-null   float64       \n",
      " 13  body_type        8685 non-null   object        \n",
      " 14  last_updated     9698 non-null   datetime64[ns]\n",
      " 15  price            9698 non-null   float64       \n",
      "dtypes: datetime64[ns](1), float64(4), object(11)\n",
      "memory usage: 1.3+ MB\n"
     ]
    },
    {
     "data": {
      "text/html": [
       "<div>\n",
       "<style scoped>\n",
       "    .dataframe tbody tr th:only-of-type {\n",
       "        vertical-align: middle;\n",
       "    }\n",
       "\n",
       "    .dataframe tbody tr th {\n",
       "        vertical-align: top;\n",
       "    }\n",
       "\n",
       "    .dataframe thead th {\n",
       "        text-align: right;\n",
       "    }\n",
       "</style>\n",
       "<table border=\"1\" class=\"dataframe\">\n",
       "  <thead>\n",
       "    <tr style=\"text-align: right;\">\n",
       "      <th></th>\n",
       "      <th>model_year</th>\n",
       "      <th>km_driven</th>\n",
       "      <th>engine_power</th>\n",
       "      <th>last_updated</th>\n",
       "      <th>price</th>\n",
       "    </tr>\n",
       "  </thead>\n",
       "  <tbody>\n",
       "    <tr>\n",
       "      <th>count</th>\n",
       "      <td>8731.000000</td>\n",
       "      <td>9698.000000</td>\n",
       "      <td>9698.000000</td>\n",
       "      <td>9698</td>\n",
       "      <td>9.698000e+03</td>\n",
       "    </tr>\n",
       "    <tr>\n",
       "      <th>mean</th>\n",
       "      <td>2013.406368</td>\n",
       "      <td>94796.237781</td>\n",
       "      <td>1351.500555</td>\n",
       "      <td>2025-04-30 13:21:48.888430592</td>\n",
       "      <td>4.591775e+06</td>\n",
       "    </tr>\n",
       "    <tr>\n",
       "      <th>min</th>\n",
       "      <td>1990.000000</td>\n",
       "      <td>2.000000</td>\n",
       "      <td>4.000000</td>\n",
       "      <td>2025-03-25 00:00:00</td>\n",
       "      <td>1.100000e+05</td>\n",
       "    </tr>\n",
       "    <tr>\n",
       "      <th>25%</th>\n",
       "      <td>2008.000000</td>\n",
       "      <td>40000.000000</td>\n",
       "      <td>800.000000</td>\n",
       "      <td>2025-04-27 00:00:00</td>\n",
       "      <td>1.686250e+06</td>\n",
       "    </tr>\n",
       "    <tr>\n",
       "      <th>50%</th>\n",
       "      <td>2015.000000</td>\n",
       "      <td>81000.000000</td>\n",
       "      <td>1300.000000</td>\n",
       "      <td>2025-05-01 00:00:00</td>\n",
       "      <td>2.950000e+06</td>\n",
       "    </tr>\n",
       "    <tr>\n",
       "      <th>75%</th>\n",
       "      <td>2020.000000</td>\n",
       "      <td>125000.000000</td>\n",
       "      <td>1600.000000</td>\n",
       "      <td>2025-05-05 00:00:00</td>\n",
       "      <td>4.850000e+06</td>\n",
       "    </tr>\n",
       "    <tr>\n",
       "      <th>max</th>\n",
       "      <td>2022.000000</td>\n",
       "      <td>1000000.000000</td>\n",
       "      <td>11136.000000</td>\n",
       "      <td>2025-05-08 00:00:00</td>\n",
       "      <td>1.775000e+08</td>\n",
       "    </tr>\n",
       "    <tr>\n",
       "      <th>std</th>\n",
       "      <td>7.290992</td>\n",
       "      <td>88690.723116</td>\n",
       "      <td>725.475523</td>\n",
       "      <td>NaN</td>\n",
       "      <td>7.207433e+06</td>\n",
       "    </tr>\n",
       "  </tbody>\n",
       "</table>\n",
       "</div>"
      ],
      "text/plain": [
       "        model_year       km_driven  engine_power  \\\n",
       "count  8731.000000     9698.000000   9698.000000   \n",
       "mean   2013.406368    94796.237781   1351.500555   \n",
       "min    1990.000000        2.000000      4.000000   \n",
       "25%    2008.000000    40000.000000    800.000000   \n",
       "50%    2015.000000    81000.000000   1300.000000   \n",
       "75%    2020.000000   125000.000000   1600.000000   \n",
       "max    2022.000000  1000000.000000  11136.000000   \n",
       "std       7.290992    88690.723116    725.475523   \n",
       "\n",
       "                        last_updated         price  \n",
       "count                           9698  9.698000e+03  \n",
       "mean   2025-04-30 13:21:48.888430592  4.591775e+06  \n",
       "min              2025-03-25 00:00:00  1.100000e+05  \n",
       "25%              2025-04-27 00:00:00  1.686250e+06  \n",
       "50%              2025-05-01 00:00:00  2.950000e+06  \n",
       "75%              2025-05-05 00:00:00  4.850000e+06  \n",
       "max              2025-05-08 00:00:00  1.775000e+08  \n",
       "std                              NaN  7.207433e+06  "
      ]
     },
     "execution_count": 431,
     "metadata": {},
     "output_type": "execute_result"
    }
   ],
   "source": [
    "df.info()\n",
    "df.describe()"
   ]
  }
 ],
 "metadata": {
  "kernelspec": {
   "display_name": "main",
   "language": "python",
   "name": "python3"
  },
  "language_info": {
   "codemirror_mode": {
    "name": "ipython",
    "version": 3
   },
   "file_extension": ".py",
   "mimetype": "text/x-python",
   "name": "python",
   "nbconvert_exporter": "python",
   "pygments_lexer": "ipython3",
   "version": "3.12.3"
  }
 },
 "nbformat": 4,
 "nbformat_minor": 5
}
